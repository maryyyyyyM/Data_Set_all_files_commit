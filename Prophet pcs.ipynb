{
 "cells": [
  {
   "cell_type": "markdown",
   "metadata": {},
   "source": [
    "pip install prophet --quiet - встановіть через термінал.\n",
    "pip install pandas\n",
    "pip install matplotlib"
   ]
  },
  {
   "cell_type": "code",
   "metadata": {
    "ExecuteTime": {
     "end_time": "2025-05-12T14:41:13.308744Z",
     "start_time": "2025-05-12T14:41:13.305745Z"
    }
   },
   "source": [
    "import pandas as pd\n",
    "from prophet import Prophet\n",
    "import matplotlib.pyplot as plt\n"
   ],
   "outputs": [],
   "execution_count": 38
  },
  {
   "cell_type": "markdown",
   "metadata": {},
   "source": [
    "Loading of DataSet, Some checks and data prep"
   ]
  },
  {
   "cell_type": "code",
   "metadata": {
    "ExecuteTime": {
     "end_time": "2025-05-12T14:41:14.605059Z",
     "start_time": "2025-05-12T14:41:14.601037Z"
    }
   },
   "source": [
    "# Load dataset\n",
    "df = pd.read_csv('sales_dataset.csv')\n"
   ],
   "outputs": [],
   "execution_count": 39
  },
  {
   "cell_type": "code",
   "metadata": {
    "ExecuteTime": {
     "end_time": "2025-05-12T14:41:16.125284Z",
     "start_time": "2025-05-12T14:41:16.119431Z"
    }
   },
   "source": [
    "# Show first few rows\n",
    "df.head()"
   ],
   "outputs": [
    {
     "data": {
      "text/plain": [
       "   sales_date  sku_id  dc_id  sales_count  weight  promo product_name  \\\n",
       "0  2025-05-01  SKU005      1            7    0.56   True      Chicken   \n",
       "1  2025-05-02  SKU005      1           23    3.00   True      Chicken   \n",
       "2  2025-05-03  SKU004      1            2    1.68   True       Carrot   \n",
       "3  2025-05-04  SKU003      1           43    1.40   True        Bread   \n",
       "4  2025-05-05  SKU003      3           26    4.87   True        Bread   \n",
       "\n",
       "     category location  is_weekend month_name  \n",
       "0        Meat     Kyiv       False        May  \n",
       "1        Meat     Kyiv       False        May  \n",
       "2  Vegetables     Kyiv        True        May  \n",
       "3      Bakery     Kyiv        True        May  \n",
       "4      Bakery    Odesa       False        May  "
      ],
      "text/html": [
       "<div>\n",
       "<style scoped>\n",
       "    .dataframe tbody tr th:only-of-type {\n",
       "        vertical-align: middle;\n",
       "    }\n",
       "\n",
       "    .dataframe tbody tr th {\n",
       "        vertical-align: top;\n",
       "    }\n",
       "\n",
       "    .dataframe thead th {\n",
       "        text-align: right;\n",
       "    }\n",
       "</style>\n",
       "<table border=\"1\" class=\"dataframe\">\n",
       "  <thead>\n",
       "    <tr style=\"text-align: right;\">\n",
       "      <th></th>\n",
       "      <th>sales_date</th>\n",
       "      <th>sku_id</th>\n",
       "      <th>dc_id</th>\n",
       "      <th>sales_count</th>\n",
       "      <th>weight</th>\n",
       "      <th>promo</th>\n",
       "      <th>product_name</th>\n",
       "      <th>category</th>\n",
       "      <th>location</th>\n",
       "      <th>is_weekend</th>\n",
       "      <th>month_name</th>\n",
       "    </tr>\n",
       "  </thead>\n",
       "  <tbody>\n",
       "    <tr>\n",
       "      <th>0</th>\n",
       "      <td>2025-05-01</td>\n",
       "      <td>SKU005</td>\n",
       "      <td>1</td>\n",
       "      <td>7</td>\n",
       "      <td>0.56</td>\n",
       "      <td>True</td>\n",
       "      <td>Chicken</td>\n",
       "      <td>Meat</td>\n",
       "      <td>Kyiv</td>\n",
       "      <td>False</td>\n",
       "      <td>May</td>\n",
       "    </tr>\n",
       "    <tr>\n",
       "      <th>1</th>\n",
       "      <td>2025-05-02</td>\n",
       "      <td>SKU005</td>\n",
       "      <td>1</td>\n",
       "      <td>23</td>\n",
       "      <td>3.00</td>\n",
       "      <td>True</td>\n",
       "      <td>Chicken</td>\n",
       "      <td>Meat</td>\n",
       "      <td>Kyiv</td>\n",
       "      <td>False</td>\n",
       "      <td>May</td>\n",
       "    </tr>\n",
       "    <tr>\n",
       "      <th>2</th>\n",
       "      <td>2025-05-03</td>\n",
       "      <td>SKU004</td>\n",
       "      <td>1</td>\n",
       "      <td>2</td>\n",
       "      <td>1.68</td>\n",
       "      <td>True</td>\n",
       "      <td>Carrot</td>\n",
       "      <td>Vegetables</td>\n",
       "      <td>Kyiv</td>\n",
       "      <td>True</td>\n",
       "      <td>May</td>\n",
       "    </tr>\n",
       "    <tr>\n",
       "      <th>3</th>\n",
       "      <td>2025-05-04</td>\n",
       "      <td>SKU003</td>\n",
       "      <td>1</td>\n",
       "      <td>43</td>\n",
       "      <td>1.40</td>\n",
       "      <td>True</td>\n",
       "      <td>Bread</td>\n",
       "      <td>Bakery</td>\n",
       "      <td>Kyiv</td>\n",
       "      <td>True</td>\n",
       "      <td>May</td>\n",
       "    </tr>\n",
       "    <tr>\n",
       "      <th>4</th>\n",
       "      <td>2025-05-05</td>\n",
       "      <td>SKU003</td>\n",
       "      <td>3</td>\n",
       "      <td>26</td>\n",
       "      <td>4.87</td>\n",
       "      <td>True</td>\n",
       "      <td>Bread</td>\n",
       "      <td>Bakery</td>\n",
       "      <td>Odesa</td>\n",
       "      <td>False</td>\n",
       "      <td>May</td>\n",
       "    </tr>\n",
       "  </tbody>\n",
       "</table>\n",
       "</div>"
      ]
     },
     "execution_count": 40,
     "metadata": {},
     "output_type": "execute_result"
    }
   ],
   "execution_count": 40
  },
  {
   "cell_type": "code",
   "metadata": {
    "ExecuteTime": {
     "end_time": "2025-05-12T14:41:17.942470Z",
     "start_time": "2025-05-12T14:41:17.938911Z"
    }
   },
   "source": [
    "# Check the column names in your dataset\n",
    "df.columns"
   ],
   "outputs": [
    {
     "data": {
      "text/plain": [
       "Index(['sales_date', 'sku_id', 'dc_id', 'sales_count', 'weight', 'promo',\n",
       "       'product_name', 'category', 'location', 'is_weekend', 'month_name'],\n",
       "      dtype='object')"
      ]
     },
     "execution_count": 41,
     "metadata": {},
     "output_type": "execute_result"
    }
   ],
   "execution_count": 41
  },
  {
   "cell_type": "code",
   "metadata": {
    "ExecuteTime": {
     "end_time": "2025-05-12T14:41:20.995763Z",
     "start_time": "2025-05-12T14:41:20.991710Z"
    }
   },
   "source": [
    "#  Convert 'period' to datetime\n",
    "df['sales_date'] = pd.to_datetime(df['sales_date'])"
   ],
   "outputs": [],
   "execution_count": 42
  },
  {
   "cell_type": "code",
   "metadata": {
    "ExecuteTime": {
     "end_time": "2025-05-12T14:41:22.506919Z",
     "start_time": "2025-05-12T14:41:22.503467Z"
    }
   },
   "source": [
    "df = df[['sales_date', 'sku_id', 'dc_id', 'sales_count', 'weight', 'promo',\n",
    "         'product_name', 'category', 'location', 'is_weekend', 'month_name']]"
   ],
   "outputs": [],
   "execution_count": 43
  },
  {
   "cell_type": "code",
   "metadata": {
    "ExecuteTime": {
     "end_time": "2025-05-12T14:41:23.919485Z",
     "start_time": "2025-05-12T14:41:23.916463Z"
    }
   },
   "source": [
    "# Prepare results container\n",
    "forecast_all = []"
   ],
   "outputs": [],
   "execution_count": 44
  },
  {
   "cell_type": "code",
   "metadata": {
    "ExecuteTime": {
     "end_time": "2025-05-12T14:41:26.059056Z",
     "start_time": "2025-05-12T14:41:25.558835Z"
    }
   },
   "source": [
    "# Loop through each unique SKU\n",
    "sku_list = df['sku_id'].unique()\n",
    "\n",
    "for sku in sku_list:\n",
    "    sku_df = df[df['sku_id'] == sku].copy()\n",
    "\n",
    "    # Skip SKUs with too little data\n",
    "    if len(sku_df) < 10:\n",
    "        continue\n",
    "\n",
    "    # Rename columns to match Prophet requirements\n",
    "    sku_df.rename(columns={'sales_date': 'ds', 'sales_count': 'y'}, inplace=True)  # Заміна 'qty_total' на 'sales_count'\n",
    "\n",
    "    # Drop rows with missing values in regressors\n",
    "    sku_df = sku_df.dropna(subset=['promo', 'is_weekend', 'month_name'])  # Заміна на відповідні стовпці\n",
    "\n",
    "    # Convert month_name to numeric month (e.g., 'May' -> 5)\n",
    "    month_map = {\n",
    "        \"Jan\": 1, \"Feb\": 2, \"Mar\": 3, \"Apr\": 4, \"May\": 5, \"Jun\": 6,\n",
    "        \"Jul\": 7, \"Aug\": 8, \"Sep\": 9, \"Oct\": 10, \"Nov\": 11, \"Dec\": 12\n",
    "    }\n",
    "    sku_df['month_num'] = sku_df['month_name'].map(month_map)\n",
    "\n",
    "    # Skip if less than 2 rows after cleaning\n",
    "    if len(sku_df) < 2:\n",
    "        continue\n",
    "\n",
    "    # Initialize Prophet with additional regressors\n",
    "    model = Prophet()\n",
    "    model.add_regressor('promo')\n",
    "    model.add_regressor('is_weekend')\n",
    "    model.add_regressor('month_num')  # Використовуємо month_num замість month_name\n",
    "\n",
    "    model.fit(sku_df)\n",
    "\n",
    "    # Create future dataframe for 28 days\n",
    "    future = model.make_future_dataframe(periods=28)\n",
    "\n",
    "    # Add future regressor values (using last known value)\n",
    "    future['promo'] = sku_df['promo'].iloc[-1]\n",
    "    future['is_weekend'] = sku_df['is_weekend'].iloc[-1]\n",
    "    future['month_num'] = sku_df['month_num'].iloc[-1]  # repeat last known value for future\n",
    "\n",
    "    # Forecast\n",
    "    forecast = model.predict(future)\n",
    "\n",
    "    result = forecast[['ds', 'yhat', 'yhat_lower', 'yhat_upper']].tail(28).copy()\n",
    "    result.rename(columns={\n",
    "        'ds': 'date',\n",
    "        'yhat': 'forecast_qty_total',\n",
    "        'yhat_lower': 'forecast_qty_total_lower',\n",
    "        'yhat_upper': 'forecast_qty_total_upper'\n",
    "    }, inplace=True)\n",
    "\n",
    "    result['sku_id'] = sku\n",
    "\n",
    "    forecast_all.append(result)"
   ],
   "outputs": [
    {
     "name": "stderr",
     "output_type": "stream",
     "text": [
      "16:41:25 - cmdstanpy - INFO - Chain [1] start processing\n",
      "16:41:25 - cmdstanpy - INFO - Chain [1] done processing\n",
      "16:41:25 - cmdstanpy - INFO - Chain [1] start processing\n",
      "16:41:25 - cmdstanpy - INFO - Chain [1] done processing\n",
      "16:41:25 - cmdstanpy - INFO - Chain [1] start processing\n",
      "16:41:25 - cmdstanpy - INFO - Chain [1] done processing\n",
      "16:41:25 - cmdstanpy - INFO - Chain [1] start processing\n",
      "16:41:25 - cmdstanpy - INFO - Chain [1] done processing\n",
      "16:41:26 - cmdstanpy - INFO - Chain [1] start processing\n",
      "16:41:26 - cmdstanpy - INFO - Chain [1] done processing\n"
     ]
    }
   ],
   "execution_count": 45
  },
  {
   "cell_type": "markdown",
   "metadata": {},
   "source": [
    "Getting a result, saving to Csv."
   ]
  },
  {
   "cell_type": "code",
   "metadata": {
    "ExecuteTime": {
     "end_time": "2025-05-12T14:41:39.388751Z",
     "start_time": "2025-05-12T14:41:39.385302Z"
    }
   },
   "source": [
    "#  Combine all forecasts\n",
    "final_forecast_df = pd.concat(forecast_all, ignore_index=True)\n"
   ],
   "outputs": [],
   "execution_count": 46
  },
  {
   "cell_type": "code",
   "metadata": {
    "ExecuteTime": {
     "end_time": "2025-05-12T14:41:41.724222Z",
     "start_time": "2025-05-12T14:41:41.720142Z"
    }
   },
   "source": [
    "\n",
    "# Save to CSV\n",
    "final_forecast_df.to_csv('forecast_28_days_all_skus_with_regressors.csv', index=False)"
   ],
   "outputs": [],
   "execution_count": 47
  },
  {
   "cell_type": "code",
   "metadata": {
    "ExecuteTime": {
     "end_time": "2025-05-12T14:41:43.182861Z",
     "start_time": "2025-05-12T14:41:43.176784Z"
    }
   },
   "source": [
    "\n",
    "# Show sample of result\n",
    "final_forecast_df.head()"
   ],
   "outputs": [
    {
     "data": {
      "text/plain": [
       "        date  forecast_qty_total  forecast_qty_total_lower  \\\n",
       "0 2025-05-29           36.655778                 23.129004   \n",
       "1 2025-05-30           59.649109                 46.579712   \n",
       "2 2025-05-31           45.228966                 30.472095   \n",
       "3 2025-06-01           46.538140                 32.001691   \n",
       "4 2025-06-02           52.547277                 38.073737   \n",
       "\n",
       "   forecast_qty_total_upper  sku_id  \n",
       "0                 51.588920  SKU005  \n",
       "1                 74.816394  SKU005  \n",
       "2                 58.501733  SKU005  \n",
       "3                 59.672678  SKU005  \n",
       "4                 67.342904  SKU005  "
      ],
      "text/html": [
       "<div>\n",
       "<style scoped>\n",
       "    .dataframe tbody tr th:only-of-type {\n",
       "        vertical-align: middle;\n",
       "    }\n",
       "\n",
       "    .dataframe tbody tr th {\n",
       "        vertical-align: top;\n",
       "    }\n",
       "\n",
       "    .dataframe thead th {\n",
       "        text-align: right;\n",
       "    }\n",
       "</style>\n",
       "<table border=\"1\" class=\"dataframe\">\n",
       "  <thead>\n",
       "    <tr style=\"text-align: right;\">\n",
       "      <th></th>\n",
       "      <th>date</th>\n",
       "      <th>forecast_qty_total</th>\n",
       "      <th>forecast_qty_total_lower</th>\n",
       "      <th>forecast_qty_total_upper</th>\n",
       "      <th>sku_id</th>\n",
       "    </tr>\n",
       "  </thead>\n",
       "  <tbody>\n",
       "    <tr>\n",
       "      <th>0</th>\n",
       "      <td>2025-05-29</td>\n",
       "      <td>36.655778</td>\n",
       "      <td>23.129004</td>\n",
       "      <td>51.588920</td>\n",
       "      <td>SKU005</td>\n",
       "    </tr>\n",
       "    <tr>\n",
       "      <th>1</th>\n",
       "      <td>2025-05-30</td>\n",
       "      <td>59.649109</td>\n",
       "      <td>46.579712</td>\n",
       "      <td>74.816394</td>\n",
       "      <td>SKU005</td>\n",
       "    </tr>\n",
       "    <tr>\n",
       "      <th>2</th>\n",
       "      <td>2025-05-31</td>\n",
       "      <td>45.228966</td>\n",
       "      <td>30.472095</td>\n",
       "      <td>58.501733</td>\n",
       "      <td>SKU005</td>\n",
       "    </tr>\n",
       "    <tr>\n",
       "      <th>3</th>\n",
       "      <td>2025-06-01</td>\n",
       "      <td>46.538140</td>\n",
       "      <td>32.001691</td>\n",
       "      <td>59.672678</td>\n",
       "      <td>SKU005</td>\n",
       "    </tr>\n",
       "    <tr>\n",
       "      <th>4</th>\n",
       "      <td>2025-06-02</td>\n",
       "      <td>52.547277</td>\n",
       "      <td>38.073737</td>\n",
       "      <td>67.342904</td>\n",
       "      <td>SKU005</td>\n",
       "    </tr>\n",
       "  </tbody>\n",
       "</table>\n",
       "</div>"
      ]
     },
     "execution_count": 48,
     "metadata": {},
     "output_type": "execute_result"
    }
   ],
   "execution_count": 48
  }
 ],
 "metadata": {
  "kernelspec": {
   "display_name": "Python 3",
   "language": "python",
   "name": "python3"
  },
  "language_info": {
   "codemirror_mode": {
    "name": "ipython",
    "version": 3
   },
   "file_extension": ".py",
   "mimetype": "text/x-python",
   "name": "python",
   "nbconvert_exporter": "python",
   "pygments_lexer": "ipython3",
   "version": "3.12.9"
  }
 },
 "nbformat": 4,
 "nbformat_minor": 2
}
